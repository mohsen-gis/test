{
 "cells": [
  {
   "cell_type": "markdown",
   "metadata": {
    "slideshow": {
     "slide_type": "slide"
    }
   },
   "source": [
    "## Spatial Modeling and Analytics\n",
    "\n",
    "### Part 4 of 4\n",
    "# Show me an example!"
   ]
  },
  {
   "cell_type": "code",
   "execution_count": 4,
   "metadata": {
    "scrolled": true,
    "slideshow": {
     "slide_type": "skip"
    }
   },
   "outputs": [
    {
     "data": {
      "text/html": [
       " \n",
       "    <script type=\"text/javascript\" src=\"../../supplementary/js/custom.js\"></script>\n",
       "    \n",
       "    <input id=\"toggle_code\" type=\"button\" value=\"Toggle raw code\">\n"
      ],
      "text/plain": [
       "<IPython.core.display.HTML object>"
      ]
     },
     "execution_count": 4,
     "metadata": {},
     "output_type": "execute_result"
    }
   ],
   "source": [
    "# This code cell starts the necessary setup for Hour of CI lesson notebooks.\n",
    "# First, it enables users to hide and unhide code by producing a 'Toggle raw code' button below.\n",
    "# Second, it imports the hourofci package, which is necessary for lessons and interactive Jupyter Widgets.\n",
    "# Third, it helps hide/control other aspects of Jupyter Notebooks to improve the user experience\n",
    "# This is an initialization cell\n",
    "# It is not displayed because the Slide Type is 'Skip'\n",
    "\n",
    "from IPython.display import HTML, IFrame, Javascript, display\n",
    "from ipywidgets import interactive\n",
    "import ipywidgets as widgets\n",
    "from ipywidgets import Layout\n",
    "\n",
    "import getpass # This library allows us to get the username (User agent string)\n",
    "\n",
    "# import package for hourofci project\n",
    "import sys\n",
    "sys.path.append('../../supplementary') # relative path (may change depending on the location of the lesson notebook)\n",
    "import hourofci\n",
    "from quizes import quiz_sma5_1\n",
    "from quizes import quiz_sma5_2\n",
    "\n",
    "# load javascript to initialize/hide cells, get user agent string, and hide output indicator\n",
    "# hide code by introducing a toggle button \"Toggle raw code\"\n",
    "HTML(''' \n",
    "    <script type=\"text/javascript\" src=\\\"../../supplementary/js/custom.js\\\"></script>\n",
    "    \n",
    "    <input id=\"toggle_code\" type=\"button\" value=\"Toggle raw code\">\n",
    "''')"
   ]
  },
  {
   "cell_type": "markdown",
   "metadata": {
    "slideshow": {
     "slide_type": "slide"
    }
   },
   "source": [
    "The classic example of a spatial model in GIS is *site suitability analysis*, and known in other flavors as *cartographic modeling* and *overlay analysis*. It is so commonly understood, that GIS analysis is often represented by the \"layer cake\" image of a stack of data layers. Here's an image from USGS:\n",
    "\n",
    "<table>\n",
    "<tr style=\"background: #fff\">   \n",
    "<td width='30%' align='left'><img src='supplementary/USGS_GIS_layers.jpg' alt='GIS layers' width='400'></td>\n",
    "<td>Search on Google for \"<a href='https://www.google.com/search?q=image+gis+layers&rlz=1C1RXQR_enUS944US946&sxsrf=ALeKk00AxFX-ix724zPyRBujUm3iQxIGUg:1628883867707&source=lnms&tbm=isch&sa=X&ved=2ahUKEwjag8Ki4a7yAhXPqp4KHUe6AisQ_AUoAXoECAEQAw&biw=1253&bih=788'>image gis layers</a>\" and you'll see everyone uses this image at some point!</td>\n",
    "    </tr>\n",
    "    </table>"
   ]
  },
  {
   "cell_type": "markdown",
   "metadata": {
    "slideshow": {
     "slide_type": "slide"
    }
   },
   "source": [
    "<table>\n",
    "<tr style=\"background: #fff\">   \n",
    "<td width='30%' align='left'>The overlay concept was popularized by landscape architect Ian McHarg in his classic 1969 book.\n",
    "<img src='https://assets.bwbx.io/images/users/iqjWHBFdfxIU/iVOHqmYJ8I3s/v0/600x-1.jpg' width='200' alt='Design with Nature 1969 book cover'> </td>\n",
    "<td>On the 50th anniversary of that book, <a href='https://www.bloomberg.com/news/articles/2019-06-10/the-legacy-of-design-with-nature-50-years-later'>Bloomberg CityLab</a> published an article on McHarg's contributions: \n",
    "\n",
    "\"The book also provided a practical method for intervening in the land-use system—the layering of large, complex spatial data to make policy and design choices about a site’s “fitness” or “suitability” for various types of development, conservation, and restoration plans. If that method of suitability analysis sounds familiar, it should: It gave rise to a technological revolution in Geospatial Information Systems, beginning with crude punch cards on room-sized computers and evolving into the suite of highly sophisticated GIS software companies we know today (including Esri).\"\n",
    "\n",
    "McHarg, Ian L. 1969. <u>Design with nature</u>. Garden City, N.Y.: Published for the American Museum of Natural History [by] the Natural History Press</td>\n",
    "</tr>\n",
    "</table>"
   ]
  },
  {
   "cell_type": "markdown",
   "metadata": {
    "slideshow": {
     "slide_type": "slide"
    }
   },
   "source": [
    "Using this methodology, we build models of the world consisting of a collection of spatial data layers representing different themes of interest. On each layer we identify locations that are suitable for a desired development or land use policy given a particular criteria. For example on a data layer showing rivers, we might identify all areas that are at least 300 m from a river. On a zoning map, we might select all areas that are in a commercial use zone.\n",
    "\n",
    "Then we overlay the layers (in McHarg's day these layers were drawn on transparent sheets) and \"look through the layers\" to see what locations satisfy all or the most of our criteria. "
   ]
  },
  {
   "cell_type": "markdown",
   "metadata": {
    "slideshow": {
     "slide_type": "slide"
    }
   },
   "source": [
    "Needless to say, the method has evolved a lot since McHarg's transparent overlays, but you will find this style of analysis at the heart of a lot of spatial modeling. Here's an example developed by the state of Kentucky to help planners and citizens identify locations for the development of solar energy. \n",
    "\n",
    "<a href='https://solar-siting-potential-in-kentucky-kygis.hub.arcgis.com/'>Solar Siting Potential in Kentucky</a>\n",
    "\n",
    "Poke around in here a bit, then be sure to come back here for the final part where YOU will get to execute a site suitability model!"
   ]
  },
  {
   "cell_type": "markdown",
   "metadata": {
    "slideshow": {
     "slide_type": "slide"
    }
   },
   "source": [
    "For many more inspiring examples that are easy to digest about how GIS is used for spatial modeling and analytics, you can check out the <a href='https://esri.com'>Esri website</a>. It provides a very well curated source of stories and images about how people are using GIS to solve problems. \n",
    "<a href='https://esri.com'><img src='supplementary/esri.jpg' alt='Esri logo'></a>\n",
    "\n",
    "This is a very deep website and you will get lost there. Perhaps an easy way to dive in is to go to their Solutions tab on their home page. There you can see examples of how business and government use GIS. And for the full spectrum, click into the Industries link. Go down any path there that interests you, but come back here when you're done exploring so that you can DO some spatial modeling yourself!"
   ]
  },
  {
   "cell_type": "markdown",
   "metadata": {
    "slideshow": {
     "slide_type": "slide"
    }
   },
   "source": [
    "We pointed you to Esri because they do a first rate job of showing everyone how great GIS is and they have a huge number of slick stories about spatial models and analytics. But, of course, all the other companies would be glad to have you surf their websites too!\n",
    "\n",
    "Here are the key companies working in the spatial modeling and analytics domain:\n",
    "- <a href='www.esri.com'>Esri</a>\n",
    "- <a href='https://clarklabs.org/terrset/idrisi-gis/'>Idrisi</a>\n",
    "- <a href='https://www.caliper.com/maptovu.htm'>Maptitude</a>\n",
    "- <a href='https://www.precisely.com/product/precisely-mapinfo/mapinfo-pro'>MapInfo</a>\n",
    "\n",
    "And there are many open sources of spatial modeling and analytics tools, as well:\n",
    "- <a href='https://qgis.org/en/site/'>OGIS</a>\n",
    "- <a href='https://grass.osgeo.org/'>GRASS</a>\n",
    "- Python modules such as GDAL, PySAL\n",
    "- R modules including spatstat, spdep, GISTools"
   ]
  },
  {
   "cell_type": "markdown",
   "metadata": {
    "slideshow": {
     "slide_type": "slide"
    }
   },
   "source": [
    "QUESTION Let's wrap up with a quick final question. Site suitability modeling is:\n",
    "\n",
    "1. A brand new technique that originated with cyberinfrastructure\n",
    "1. Can be accomplished with plastic overlays or complex computer modeling tools\n",
    "1. Is the only thing GIS does\n",
    "1. Can only find the best sites."
   ]
  },
  {
   "cell_type": "code",
   "execution_count": 1,
   "metadata": {
    "slideshow": {
     "slide_type": "slide"
    }
   },
   "outputs": [
    {
     "data": {
      "application/vnd.jupyter.widget-view+json": {
       "model_id": "47bde77b533e4cb7a42b2546fe23d13e",
       "version_major": 2,
       "version_minor": 0
      },
      "text/plain": [
       "VBox(children=(Output(), RadioButtons(layout=Layout(width='initial'), options=(('Can be accomplished with plas…"
      ]
     },
     "metadata": {},
     "output_type": "display_data"
    }
   ],
   "source": [
    "quiz_sma5_1()"
   ]
  },
  {
   "cell_type": "markdown",
   "metadata": {
    "slideshow": {
     "slide_type": "slide"
    }
   },
   "source": [
    "At the beginning of this lesson, we said, once you finished, you would be able to do all the following. \n",
    "\n",
    "1. Distinguish between spatial modeling and spatial analytics.\n",
    "2. Describe how spatial modeling and analytics can be used to solve an everyday problem.\n",
    "3. State the First Law of Geography.\n",
    "4. List some kinds of results that might be generated by spatial modeling and analytics. \n",
    "5. Run Python code to execute simple spatial modeling and analytics tasks.\n",
    "\n",
    "QUESTION\n",
    "Can you do all these things now? (Yes/No)"
   ]
  },
  {
   "cell_type": "code",
   "execution_count": 5,
   "metadata": {},
   "outputs": [
    {
     "data": {
      "application/vnd.jupyter.widget-view+json": {
       "model_id": "b5d7f0c69cca4363abd7891334944714",
       "version_major": 2,
       "version_minor": 0
      },
      "text/plain": [
       "VBox(children=(Output(), RadioButtons(layout=Layout(width='initial'), options=(('Yes', 0), ('No', 1)), value=0…"
      ]
     },
     "metadata": {},
     "output_type": "display_data"
    }
   ],
   "source": [
    "quiz_sma5_2()"
   ]
  },
  {
   "cell_type": "markdown",
   "metadata": {
    "slideshow": {
     "slide_type": "slide"
    }
   },
   "source": [
    "# Now let's do some site suitability modeling!\n",
    "\n",
    "Open <font><a style=\"background-color:blue;color:white;font-weight:bold;\" href=\"sma_exploration.ipynb\">this notebook</a></font> and run each of the code chunks sequentially by clicking the arrow beside the code chunk. "
   ]
  }
 ],
 "metadata": {
  "celltoolbar": "Slideshow",
  "kernelspec": {
   "display_name": "Python 3",
   "language": "python",
   "name": "python3"
  },
  "language_info": {
   "codemirror_mode": {
    "name": "ipython",
    "version": 3
   },
   "file_extension": ".py",
   "mimetype": "text/x-python",
   "name": "python",
   "nbconvert_exporter": "python",
   "pygments_lexer": "ipython3",
   "version": "3.7.10"
  },
  "rise": {
   "autolaunch": true,
   "overlay": "<div class='hciheader'></div><div class='hcifooter'></div>",
   "scroll": true
  }
 },
 "nbformat": 4,
 "nbformat_minor": 4
}
