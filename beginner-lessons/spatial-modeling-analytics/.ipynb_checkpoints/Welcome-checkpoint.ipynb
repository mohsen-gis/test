{
 "cells": [
  {
   "cell_type": "markdown",
   "metadata": {
    "slideshow": {
     "slide_type": "slide"
    }
   },
   "source": [
    "# Welcome to the Hour of CI!\n",
    "\n",
    "The Hour of Cyberinfrastructure (Hour of CI) project will introduce you to the world of cyberinfrastructure (CI). If this is your first lesson, then we recommend starting with the **[Gateway Lesson](https://www.hourofci.org/gateway-lesson)**, which will introduce you to the Hour of CI project and the eight knowledge areas that make up Cyber Literacy for Geographic Information Science. This is the **Beginner Modeling and Analytics** lesson.\n",
    "\n",
    "<div style=\"float:left;\" >\n",
    "To start, click on the \"Run this cell\" button below to setup your Hour of CI environment. It looks like this: <img style=\"float: right; padding:0px; margin-top:4px; margin-left:5px;\" src=\"../../gateway-lesson/gateway/supplementary/play-button.png\" alt=\"Play button image\">\n",
    "</div>"
   ]
  },
  {
   "cell_type": "code",
   "execution_count": 1,
   "metadata": {
    "scrolled": false
   },
   "outputs": [
    {
     "name": "stdout",
     "output_type": "stream",
     "text": [
      "Hour of CI Setup Starting ...\n",
      "[TrustNotebookApp] ERROR | Notebook missing: beginner-lessons/interdisciplinary-communication/ic-1.ipynb\n",
      "[TrustNotebookApp] ERROR | Notebook missing: beginner-lessons/interdisciplinary-communication/ic-2.ipynb\n",
      "[TrustNotebookApp] ERROR | Notebook missing: beginner-lessons/interdisciplinary-communication/ic-3.ipynb\n",
      "[TrustNotebookApp] ERROR | Notebook missing: beginner-lessons/interdisciplinary-communication/ic-4.ipynb\n",
      "[TrustNotebookApp] ERROR | Notebook missing: beginner-lessons/interdisciplinary-communication/ic-5.ipynb\n",
      "[TrustNotebookApp] ERROR | Notebook missing: beginner-lessons/interdisciplinary-communication/ic-exploration.ipynb\n",
      "[TrustNotebookApp] ERROR | Notebook missing: beginner-lessons/geospatial-data/gd-1.ipynb\n",
      "[TrustNotebookApp] ERROR | Notebook missing: beginner-lessons/geospatial-data/gd-2.ipynb\n",
      "[TrustNotebookApp] ERROR | Notebook missing: beginner-lessons/geospatial-data/gd-3.ipynb\n",
      "[TrustNotebookApp] ERROR | Notebook missing: beginner-lessons/geospatial-data/gd-4.ipynb\n",
      "[TrustNotebookApp] ERROR | Notebook missing: beginner-lessons/geospatial-data/gd-5.ipynb\n",
      "[TrustNotebookApp] ERROR | Notebook missing: beginner-lessons/geospatial-data/gd-6.ipynb\n",
      "[TrustNotebookApp] ERROR | Notebook missing: beginner-lessons/geospatial-data/gd-example_1.ipynb\n",
      "[TrustNotebookApp] ERROR | Notebook missing: beginner-lessons/geospatial-data/gd-example_2.ipynb\n",
      "[TrustNotebookApp] ERROR | Notebook missing: beginner-lessons/cyberinfrastructure/cyberinfrastructure-1.ipynb\n",
      "[TrustNotebookApp] ERROR | Notebook missing: beginner-lessons/cyberinfrastructure/cyberinfrastructure-2.ipynb\n",
      "[TrustNotebookApp] ERROR | Notebook missing: beginner-lessons/cyberinfrastructure/cyberinfrastructure-3.ipynb\n",
      "[TrustNotebookApp] ERROR | Notebook missing: beginner-lessons/cyberinfrastructure/cyberinfrastructure-4.ipynb\n",
      "[TrustNotebookApp] ERROR | Notebook missing: beginner-lessons/cyberinfrastructure/cyberinfrastructure-5.ipynb\n",
      "[TrustNotebookApp] ERROR | Notebook missing: beginner-lessons/cyberinfrastructure/cyberinfrastructure-exploration.ipynb\n",
      "[NbConvertApp] Converting notebook beginner-lessons/Modeling_analytics/sma-1.ipynb to notebook\n",
      "[NbConvertApp] Writing 30498 bytes to beginner-lessons/Modeling_analytics/sma-1.ipynb\n",
      "[NbConvertApp] Converting notebook beginner-lessons/Modeling_analytics/sma-2.ipynb to notebook\n",
      "[NbConvertApp] Writing 24093 bytes to beginner-lessons/Modeling_analytics/sma-2.ipynb\n",
      "[NbConvertApp] Converting notebook beginner-lessons/Modeling_analytics/sma-3.ipynb to notebook\n",
      "[NbConvertApp] Writing 12683 bytes to beginner-lessons/Modeling_analytics/sma-3.ipynb\n",
      "[NbConvertApp] Converting notebook beginner-lessons/Modeling_analytics/sma-4.ipynb to notebook\n",
      "[NbConvertApp] Writing 20099 bytes to beginner-lessons/Modeling_analytics/sma-4.ipynb\n",
      "[NbConvertApp] Converting notebook beginner-lessons/Modeling_analytics/sma-5.ipynb to notebook\n",
      "[NbConvertApp] Writing 10947 bytes to beginner-lessons/Modeling_analytics/sma-5.ipynb\n",
      "[NbConvertApp] Converting notebook beginner-lessons/Modeling_analytics/try_it1_sma.ipynb to notebook\n",
      "[NbConvertApp] Writing 8828 bytes to beginner-lessons/Modeling_analytics/try_it1_sma.ipynb\n",
      "[NbConvertApp] Converting notebook beginner-lessons/Modeling_analytics/try_it2_sma.ipynb to notebook\n",
      "[NbConvertApp] Writing 14326 bytes to beginner-lessons/Modeling_analytics/try_it2_sma.ipynb\n",
      "[NbConvertApp] Converting notebook beginner-lessons/Modeling_analytics/sma_exploration.ipynb to notebook\n",
      "[NbConvertApp] Writing 20874 bytes to beginner-lessons/Modeling_analytics/sma_exploration.ipynb\n",
      "Hour of CI Setup Complete!\n"
     ]
    }
   ],
   "source": [
    "!cd ../..; sh setupHourofCI # Run this cell (button on left) to setup your Hour of CI environment"
   ]
  },
  {
   "cell_type": "markdown",
   "metadata": {
    "slideshow": {
     "slide_type": "-"
    }
   },
   "source": [
    "After your Hour of CI setup is complete, then\n",
    "\n",
    "<font size=\"+1\"><a style=\"background-color:blue;color:white;padding:7px;margin:5px;font-weight:bold;\" href=\"sma-1.ipynb\">Click here to launch the Beginner Modeling and Analytics Lesson</a></font>"
   ]
  },
  {
   "cell_type": "code",
   "execution_count": null,
   "metadata": {},
   "outputs": [],
   "source": []
  }
 ],
 "metadata": {
  "kernelspec": {
   "display_name": "Python 3",
   "language": "python",
   "name": "python3"
  },
  "language_info": {
   "codemirror_mode": {
    "name": "ipython",
    "version": 3
   },
   "file_extension": ".py",
   "mimetype": "text/x-python",
   "name": "python",
   "nbconvert_exporter": "python",
   "pygments_lexer": "ipython3",
   "version": "3.7.10"
  },
  "rise": {
   "auto_select": "none",
   "autolaunch": true,
   "overlay": "<div class='hciheader'></div><div class='hcifooter'></div>",
   "scroll": true
  }
 },
 "nbformat": 4,
 "nbformat_minor": 2
}
