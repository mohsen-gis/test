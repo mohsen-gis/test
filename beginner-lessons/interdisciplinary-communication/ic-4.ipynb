{
 "cells": [
  {
   "cell_type": "markdown",
   "metadata": {
    "slideshow": {
     "slide_type": "slide"
    }
   },
   "source": [
    "## Interdisciplinary Communication\n",
    "### Part 3 of 4\n",
    "# Jargon and Domains\n",
    "In this section, we’ll explore more impacts of jargon within ourselves and within different domain contexts."
   ]
  },
  {
   "cell_type": "markdown",
   "metadata": {
    "slideshow": {
     "slide_type": "slide"
    }
   },
   "source": [
    "\n",
    "## Reminder\n",
    "<a href=\"#/slide-2-0\" class=\"navigate-right\" style=\"background-color:blue;color:white;padding:8px;margin:2px;font-weight:bold;\">Continue with the lesson</a>\n",
    "\n",
    "<font size=\"+1\">\n",
    "\n",
    "By continuing with this lesson you are granting your permission to take part in this research study for the Hour of Cyberinfrastructure: Developing Cyber Literacy for GIScience project. In this study, you will be learning about cyberinfrastructure and related concepts using a web-based platform that will take approximately one hour per lesson. Participation in this study is voluntary.\n",
    "\n",
    "Participants in this research must be 18 years or older. If you are under the age of 18 then please exit this webpage or navigate to another website such as the Hour of Code at https://hourofcode.com, which is designed for K-12 students.\n",
    "\n",
    "If you are not interested in participating please exit the browser or navigate to this website: http://www.umn.edu. Your participation is voluntary and you are free to stop the lesson at any time.\n",
    "\n",
    "For the full description please navigate to this website: <a href=\"gateway-1.ipynb\">Gateway Lesson Research Study Permission</a>.\n",
    "\n",
    "</font>"
   ]
  },
  {
   "cell_type": "code",
   "execution_count": 2,
   "metadata": {
    "hide_input": true,
    "init_cell": true,
    "slideshow": {
     "slide_type": "skip"
    },
    "tags": [
     "Hide"
    ]
   },
   "outputs": [
    {
     "data": {
      "text/html": [
       " \n",
       "    <script type=\"text/javascript\" src=\"../../supplementary/js/custom.js\"></script>\n",
       "    \n",
       "    <style>\n",
       "        .output_prompt{opacity:0;}\n",
       "    </style>\n",
       "    \n",
       "    <input id=\"toggle_code\" type=\"button\" value=\"Toggle raw code\">\n"
      ],
      "text/plain": [
       "<IPython.core.display.HTML object>"
      ]
     },
     "execution_count": 2,
     "metadata": {},
     "output_type": "execute_result"
    }
   ],
   "source": [
    "# This code cell starts the necessary setup for Hour of CI lesson notebooks.\n",
    "# First, it enables users to hide and unhide code by producing a 'Toggle raw code' button below.\n",
    "# Second, it imports the hourofci package, which is necessary for lessons and interactive Jupyter Widgets.\n",
    "# Third, it helps hide/control other aspects of Jupyter Notebooks to improve the user experience\n",
    "# This is an initialization cell\n",
    "# It is not displayed because the Slide Type is 'Skip'\n",
    "\n",
    "from IPython.display import HTML, IFrame, Javascript, display\n",
    "from ipywidgets import interactive\n",
    "import ipywidgets as widgets\n",
    "from ipywidgets import Layout\n",
    "\n",
    "import getpass # This library allows us to get the username (User agent string)\n",
    "\n",
    "# import package for hourofci project\n",
    "import sys\n",
    "sys.path.append('../../supplementary') # relative path (may change depending on the location of the lesson notebook)\n",
    "import hourofci\n",
    "\n",
    "# load javascript to initialize/hide cells, get user agent string, and hide output indicator\n",
    "# hide code by introducing a toggle button \"Toggle raw code\"\n",
    "HTML(''' \n",
    "    <script type=\"text/javascript\" src=\\\"../../supplementary/js/custom.js\\\"></script>\n",
    "    \n",
    "    <style>\n",
    "        .output_prompt{opacity:0;}\n",
    "    </style>\n",
    "    \n",
    "    <input id=\"toggle_code\" type=\"button\" value=\"Toggle raw code\">\n",
    "''')"
   ]
  },
  {
   "cell_type": "markdown",
   "metadata": {
    "slideshow": {
     "slide_type": "slide"
    }
   },
   "source": [
    "## How Do You Feel?"
   ]
  },
  {
   "cell_type": "code",
   "execution_count": 7,
   "metadata": {
    "hide_input": true,
    "slideshow": {
     "slide_type": "fragment"
    },
    "tags": [
     "Init",
     "Hide",
     "4A"
    ]
   },
   "outputs": [
    {
     "data": {
      "application/vnd.jupyter.widget-view+json": {
       "model_id": "4ea0afe7d3934a489f44c6c6333aa798",
       "version_major": 2,
       "version_minor": 0
      },
      "text/plain": [
       "Text(value='', description='How do you feel?', placeholder='I feel...', style=DescriptionStyle(description_wid…"
      ]
     },
     "metadata": {},
     "output_type": "display_data"
    },
    {
     "data": {
      "application/vnd.jupyter.widget-view+json": {
       "model_id": "248c0a22bd2f402eb059834910a8b637",
       "version_major": 2,
       "version_minor": 0
      },
      "text/plain": [
       "Button(description='Submit', icon='check', layout=Layout(height='auto', width='auto'), style=ButtonStyle())"
      ]
     },
     "metadata": {},
     "output_type": "display_data"
    },
    {
     "data": {
      "application/vnd.jupyter.widget-view+json": {
       "model_id": "4a09b294307f4d29aec6f335c9ebfc67",
       "version_major": 2,
       "version_minor": 0
      },
      "text/plain": [
       "Output()"
      ]
     },
     "metadata": {},
     "output_type": "display_data"
    }
   ],
   "source": [
    "# Text box\n",
    "text1 = widgets.Text(\n",
    "    placeholder='I feel...',\n",
    "    description='How do you feel?', style={'description_width': 'initial'},\n",
    ")\n",
    "\n",
    "display(text1)\n",
    "\n",
    "# Output function\n",
    "def out1():\n",
    "    print(\"The positionality of a speaker, and the audience they are speaking to, matters immensely when trying to share a message, concept, or idea.\")\n",
    "\n",
    "\n",
    "# Submit button\n",
    "hourofci.SubmitBtn(user_agent, lesson, lesson_level,'4A',text1,out1)"
   ]
  },
  {
   "cell_type": "markdown",
   "metadata": {
    "slideshow": {
     "slide_type": "slide"
    },
    "tags": [
     "4B"
    ],
    "variables": {
     "IFrame(\"supplementary/feelings.html\", width=\"520\", height=\"230\")": "\n        <iframe\n            width=\"520\"\n            height=\"230\"\n            src=\"supplementary/feelings.html\"\n            frameborder=\"0\"\n            allowfullscreen\n        ></iframe>\n        "
    }
   },
   "source": [
    "The use, or non-use, of jargon in different contexts might have unexpected impacts. Given the speaker type and the audience listed, select a feeling from the list that is appropriate given the context.\n",
    "\n",
    "{{IFrame(\"supplementary/feelings.html\", width=\"520\", height=\"230\")}}"
   ]
  },
  {
   "cell_type": "markdown",
   "metadata": {
    "slideshow": {
     "slide_type": "slide"
    }
   },
   "source": [
    "## Domains\n",
    "\n",
    "Throughout your time interacting with cyberinfrastruture, you will interact with many different domains.\n",
    "\n",
    "For example:\n",
    "- Geography\n",
    "- Spatial Analysis\n",
    "- Computer Science\n",
    "- Remote Sensing"
   ]
  },
  {
   "cell_type": "markdown",
   "metadata": {
    "slideshow": {
     "slide_type": "fragment"
    }
   },
   "source": [
    "What domain are you in?"
   ]
  },
  {
   "cell_type": "code",
   "execution_count": 8,
   "metadata": {
    "hide_input": true,
    "slideshow": {
     "slide_type": "fragment"
    },
    "tags": [
     "Init",
     "Hide",
     "4C"
    ]
   },
   "outputs": [
    {
     "data": {
      "application/vnd.jupyter.widget-view+json": {
       "model_id": "06203a746356490badd7e5e64edb2627",
       "version_major": 2,
       "version_minor": 0
      },
      "text/plain": [
       "Text(value='', description='Enter your domain:', style=DescriptionStyle(description_width='initial'))"
      ]
     },
     "metadata": {},
     "output_type": "display_data"
    },
    {
     "data": {
      "application/vnd.jupyter.widget-view+json": {
       "model_id": "0a7160a7994e4b61acee0762c03d1a24",
       "version_major": 2,
       "version_minor": 0
      },
      "text/plain": [
       "Button(description='Submit', icon='check', layout=Layout(height='auto', width='auto'), style=ButtonStyle())"
      ]
     },
     "metadata": {},
     "output_type": "display_data"
    },
    {
     "data": {
      "application/vnd.jupyter.widget-view+json": {
       "model_id": "fec6012ab0b54884a765f6aebffa7935",
       "version_major": 2,
       "version_minor": 0
      },
      "text/plain": [
       "Output()"
      ]
     },
     "metadata": {},
     "output_type": "display_data"
    }
   ],
   "source": [
    "# Text box\n",
    "text2 = widgets.Text(\n",
    "    description='Enter your domain:', style={'description_width': 'initial'},\n",
    ")\n",
    "display(text2)\n",
    "\n",
    "# Submit button\n",
    "\n",
    "# Output function\n",
    "def out2():\n",
    "    print(\"The domain you entered is \" + text2.value)\n",
    "#   Jupyter.notebook.execute_cells([Jupyter.notebook.get_cell()+2])\n",
    "\n",
    "# Handle click event\n",
    "hourofci.SubmitBtn(user_agent, lesson, lesson_level, \"4C\", text2, out2)"
   ]
  },
  {
   "cell_type": "markdown",
   "metadata": {
    "slideshow": {
     "slide_type": "slide"
    }
   },
   "source": [
    "How do you think cyberinfrastructure is relevant in these domains?"
   ]
  },
  {
   "cell_type": "code",
   "execution_count": 9,
   "metadata": {
    "hide_input": false,
    "slideshow": {
     "slide_type": "fragment"
    },
    "tags": [
     "Init",
     "Hide",
     "4D"
    ]
   },
   "outputs": [
    {
     "data": {
      "application/vnd.jupyter.widget-view+json": {
       "model_id": "2dae5b16578a485fb4a07c86e273ad24",
       "version_major": 2,
       "version_minor": 0
      },
      "text/plain": [
       "Text(value='', description='Geography:', style=DescriptionStyle(description_width='initial'))"
      ]
     },
     "metadata": {},
     "output_type": "display_data"
    },
    {
     "data": {
      "application/vnd.jupyter.widget-view+json": {
       "model_id": "977c5e60cee24f728b135a9e5bf2e534",
       "version_major": 2,
       "version_minor": 0
      },
      "text/plain": [
       "Text(value='', description='Spatial Analysis:', style=DescriptionStyle(description_width='initial'))"
      ]
     },
     "metadata": {},
     "output_type": "display_data"
    },
    {
     "data": {
      "application/vnd.jupyter.widget-view+json": {
       "model_id": "83c2c83aefeb4d1091e53b80be0f8d62",
       "version_major": 2,
       "version_minor": 0
      },
      "text/plain": [
       "Text(value='', description='Computer Science:', style=DescriptionStyle(description_width='initial'))"
      ]
     },
     "metadata": {},
     "output_type": "display_data"
    },
    {
     "data": {
      "application/vnd.jupyter.widget-view+json": {
       "model_id": "4d7138738b794b58a23ed05dbf1a4b65",
       "version_major": 2,
       "version_minor": 0
      },
      "text/plain": [
       "Text(value='', description='Remote Sensing:', style=DescriptionStyle(description_width='initial'))"
      ]
     },
     "metadata": {},
     "output_type": "display_data"
    },
    {
     "data": {
      "application/vnd.jupyter.widget-view+json": {
       "model_id": "004708aec2a04c19a564e1a25377607b",
       "version_major": 2,
       "version_minor": 0
      },
      "text/plain": [
       "Text(value='', description='Your domain:', style=DescriptionStyle(description_width='initial'))"
      ]
     },
     "metadata": {},
     "output_type": "display_data"
    },
    {
     "data": {
      "application/vnd.jupyter.widget-view+json": {
       "model_id": "011f9a75ea2d41da992caef163b9e8dd",
       "version_major": 2,
       "version_minor": 0
      },
      "text/plain": [
       "Button(description='Submit', icon='check', layout=Layout(height='auto', width='auto'), style=ButtonStyle())"
      ]
     },
     "metadata": {},
     "output_type": "display_data"
    },
    {
     "data": {
      "application/vnd.jupyter.widget-view+json": {
       "model_id": "5154a8b666d649dfb63c9b8aaa24cab9",
       "version_major": 2,
       "version_minor": 0
      },
      "text/plain": [
       "Output()"
      ]
     },
     "metadata": {},
     "output_type": "display_data"
    }
   ],
   "source": [
    "# Check if there is a value for personal domain\n",
    "#   If not, display \"Your domain\"\n",
    "if text2.value:\n",
    "    domain = text2.value\n",
    "else:\n",
    "    domain = \"Your domain\"\n",
    "\n",
    "# Text boxes\n",
    "text3 = widgets.Text(\n",
    "    description='Geography:', style={'description_width': 'initial'},\n",
    ")\n",
    "text4 = widgets.Text(\n",
    "    description='Spatial Analysis:', style={'description_width': 'initial'},\n",
    ")\n",
    "text5 = widgets.Text(\n",
    "    description='Computer Science:', style={'description_width': 'initial'},\n",
    ")\n",
    "text6 = widgets.Text(\n",
    "    description='Remote Sensing:', style={'description_width': 'initial'},\n",
    ")\n",
    "text7 = widgets.Text(\n",
    "    description=domain + ':', style={'description_width': 'initial'},\n",
    ")\n",
    "\n",
    "widgets1 = [text3, text4, text5, text6, text7]\n",
    "\n",
    "display(text3, text4, text5, text6, text7)\n",
    "\n",
    "\n",
    "# Submit button\n",
    "hourofci.SubmitBtn(user_agent, lesson, lesson_level, \"4D\", widgets1)"
   ]
  },
  {
   "cell_type": "markdown",
   "metadata": {
    "slideshow": {
     "slide_type": "slide"
    }
   },
   "source": [
    "How do you think cyberinfrastructure is relevant in these _combined_ domains?\n",
    "\n",
    "Think hard about these combinations - it's a great test for your future work in these domains!"
   ]
  },
  {
   "cell_type": "code",
   "execution_count": 10,
   "metadata": {
    "hide_input": true,
    "scrolled": true,
    "slideshow": {
     "slide_type": "fragment"
    },
    "tags": [
     "Init",
     "Hide"
    ]
   },
   "outputs": [
    {
     "data": {
      "application/vnd.jupyter.widget-view+json": {
       "model_id": "8d88e8af57ce4f24936636ba7f1c2eee",
       "version_major": 2,
       "version_minor": 0
      },
      "text/plain": [
       "Text(value='', description='Geography and Computer Science:', layout=Layout(width='50%'), style=DescriptionSty…"
      ]
     },
     "metadata": {},
     "output_type": "display_data"
    },
    {
     "data": {
      "application/vnd.jupyter.widget-view+json": {
       "model_id": "9381bf968ab8443eba2c7347e8bbfa17",
       "version_major": 2,
       "version_minor": 0
      },
      "text/plain": [
       "Text(value='', description='Computer Science and Spatial Analysis:', layout=Layout(width='50%'), style=Descrip…"
      ]
     },
     "metadata": {},
     "output_type": "display_data"
    },
    {
     "data": {
      "application/vnd.jupyter.widget-view+json": {
       "model_id": "fe8f4ac7bf7b463090f9e8927f38caa5",
       "version_major": 2,
       "version_minor": 0
      },
      "text/plain": [
       "Text(value='', description='Remote Sensing and Computer Science:', layout=Layout(width='50%'), style=Descripti…"
      ]
     },
     "metadata": {},
     "output_type": "display_data"
    },
    {
     "data": {
      "application/vnd.jupyter.widget-view+json": {
       "model_id": "bfcf1a3884e541eb929c7d3903b8b8c2",
       "version_major": 2,
       "version_minor": 0
      },
      "text/plain": [
       "Text(value='', description='Your domain and Computer Science:', layout=Layout(width='50%'), style=DescriptionS…"
      ]
     },
     "metadata": {},
     "output_type": "display_data"
    },
    {
     "data": {
      "application/vnd.jupyter.widget-view+json": {
       "model_id": "694d186ae97a45cfa646c1a87b04b058",
       "version_major": 2,
       "version_minor": 0
      },
      "text/plain": [
       "Text(value='', description='Your domain and Spatial Analysis:', layout=Layout(width='50%'), style=DescriptionS…"
      ]
     },
     "metadata": {},
     "output_type": "display_data"
    },
    {
     "data": {
      "application/vnd.jupyter.widget-view+json": {
       "model_id": "1e5bb3825b4e4214b10c4a8993a5c36c",
       "version_major": 2,
       "version_minor": 0
      },
      "text/plain": [
       "Button(description='Submit', icon='check', layout=Layout(height='auto', width='auto'), style=ButtonStyle())"
      ]
     },
     "metadata": {},
     "output_type": "display_data"
    },
    {
     "data": {
      "application/vnd.jupyter.widget-view+json": {
       "model_id": "64d0ea96ce544047b9e012a3be499d1f",
       "version_major": 2,
       "version_minor": 0
      },
      "text/plain": [
       "Output()"
      ]
     },
     "metadata": {},
     "output_type": "display_data"
    }
   ],
   "source": [
    "# Text box\n",
    "text8 = widgets.Text(\n",
    "    description='Geography and Computer Science:', style={'description_width': 'initial'}, layout=Layout(width='50%')\n",
    ")\n",
    "text9 = widgets.Text(\n",
    "    description='Computer Science and Spatial Analysis:', style={'description_width': 'initial'}, layout=Layout(width='50%')\n",
    ")\n",
    "text10 = widgets.Text(\n",
    "    description='Remote Sensing and Computer Science:', style={'description_width': 'initial'}, layout=Layout(width='50%')\n",
    ")\n",
    "text11 = widgets.Text(\n",
    "    description=domain + ' and Computer Science:', style={'description_width': 'initial'}, layout=Layout(width='50%')\n",
    ")\n",
    "text12 = widgets.Text(\n",
    "    description=domain + ' and Spatial Analysis:', style={'description_width': 'initial'}, layout=Layout(width='50%')\n",
    ")\n",
    "\n",
    "widgets2 = [text8, text9, text10, text11, text12]\n",
    "\n",
    "display(text8, text9, text10, text11, text12)\n",
    "\n",
    "\n",
    "# Submit button\n",
    "hourofci.SubmitBtn(user_agent, lesson, lesson_level, \"4E\", widgets2)"
   ]
  },
  {
   "cell_type": "markdown",
   "metadata": {
    "slideshow": {
     "slide_type": "slide"
    }
   },
   "source": [
    "**Continue the journey: [Next Section](ic-5.ipynb)**"
   ]
  }
 ],
 "metadata": {
  "kernelspec": {
   "display_name": "Python 3",
   "language": "python",
   "name": "python3"
  },
  "language_info": {
   "codemirror_mode": {
    "name": "ipython",
    "version": 3
   },
   "file_extension": ".py",
   "mimetype": "text/x-python",
   "name": "python",
   "nbconvert_exporter": "python",
   "pygments_lexer": "ipython3",
   "version": "3.7.7"
  },
  "rise": {
   "autolaunch": true,
   "overlay": "<div class='hciheader'></div><div class='hcifooter'></div>",
   "scroll": true
  },
  "widgets": {
   "application/vnd.jupyter.widget-state+json": {
    "state": {},
    "version_major": 2,
    "version_minor": 0
   }
  }
 },
 "nbformat": 4,
 "nbformat_minor": 2
}
